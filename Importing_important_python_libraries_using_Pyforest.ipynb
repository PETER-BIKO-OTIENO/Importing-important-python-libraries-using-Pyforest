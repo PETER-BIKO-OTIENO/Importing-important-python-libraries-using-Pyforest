{
  "nbformat": 4,
  "nbformat_minor": 0,
  "metadata": {
    "colab": {
      "name": "Importing important python libraries using Pyforest.ipynb",
      "provenance": [],
      "collapsed_sections": []
    },
    "kernelspec": {
      "name": "python3",
      "display_name": "Python 3"
    },
    "language_info": {
      "name": "python"
    }
  },
  "cells": [
    {
      "cell_type": "code",
      "execution_count": 1,
      "metadata": {
        "colab": {
          "base_uri": "https://localhost:8080/"
        },
        "id": "kFySDyMFVTz-",
        "outputId": "102d2bbb-54a8-4c77-8f21-9a1acedc045a"
      },
      "outputs": [
        {
          "output_type": "stream",
          "name": "stdout",
          "text": [
            "Collecting pyforest\n",
            "  Downloading pyforest-1.1.0.tar.gz (15 kB)\n",
            "Building wheels for collected packages: pyforest\n",
            "  Building wheel for pyforest (setup.py) ... \u001b[?25l\u001b[?25hdone\n",
            "  Created wheel for pyforest: filename=pyforest-1.1.0-py2.py3-none-any.whl size=14607 sha256=775c4047d3d7cb3bc93e552a6c04859de8b787e9d95228ae8e9754fb6e2d2bfc\n",
            "  Stored in directory: /root/.cache/pip/wheels/61/1c/da/48e6c884142d485475d852d69d20a096aba5beceb338822893\n",
            "Successfully built pyforest\n",
            "Installing collected packages: pyforest\n",
            "Successfully installed pyforest-1.1.0\n"
          ]
        }
      ],
      "source": [
        "!pip install pyforest"
      ]
    },
    {
      "cell_type": "code",
      "source": [
        "from pyforest import *"
      ],
      "metadata": {
        "id": "f1brq0LGVqGP"
      },
      "execution_count": 2,
      "outputs": []
    },
    {
      "cell_type": "code",
      "source": [
        "lazy_imports()"
      ],
      "metadata": {
        "colab": {
          "base_uri": "https://localhost:8080/"
        },
        "id": "dQ8Izl8fWCmU",
        "outputId": "ca3599ec-6c61-4f96-acef-8205bee8932c"
      },
      "execution_count": 3,
      "outputs": [
        {
          "output_type": "execute_result",
          "data": {
            "text/plain": [
              "['import plotly.express as px',\n",
              " 'from sklearn.linear_model import LassoCV',\n",
              " 'from sklearn.linear_model import RidgeCV',\n",
              " 'from sklearn.model_selection import cross_val_score',\n",
              " 'from sklearn.model_selection import StratifiedKFold',\n",
              " 'from sklearn.preprocessing import StandardScaler',\n",
              " 'from sklearn.impute import SimpleImputer',\n",
              " 'import skimage',\n",
              " 'from sklearn.preprocessing import MinMaxScaler',\n",
              " 'from sklearn.ensemble import RandomForestRegressor',\n",
              " 'from sklearn.linear_model import Ridge',\n",
              " 'import re',\n",
              " 'import tqdm',\n",
              " 'import cv2',\n",
              " 'from sklearn.decomposition import PCA',\n",
              " 'from sklearn.preprocessing import OneHotEncoder',\n",
              " 'import dash',\n",
              " 'from dask import dataframe as dd',\n",
              " 'from sklearn.ensemble import GradientBoostingClassifier',\n",
              " 'import numpy as np',\n",
              " 'from sklearn.model_selection import RandomizedSearchCV',\n",
              " 'from sklearn import metrics',\n",
              " 'from sklearn.preprocessing import LabelEncoder',\n",
              " 'from sklearn.linear_model import LogisticRegression',\n",
              " 'from sklearn.manifold import TSNE',\n",
              " 'from sklearn.model_selection import train_test_split',\n",
              " 'from sklearn.ensemble import RandomForestClassifier',\n",
              " 'from openpyxl import load_workbook',\n",
              " 'from sklearn.feature_extraction.text import TfidfVectorizer',\n",
              " 'from sklearn.cluster import KMeans',\n",
              " 'from sklearn.model_selection import KFold',\n",
              " 'import matplotlib as mpl',\n",
              " 'import altair as alt',\n",
              " 'import plotly as py',\n",
              " 'from PIL import Image',\n",
              " 'from sklearn.preprocessing import PolynomialFeatures',\n",
              " 'from scipy import stats',\n",
              " 'from sklearn.linear_model import Lasso',\n",
              " 'from sklearn.preprocessing import RobustScaler',\n",
              " 'import fbprophet',\n",
              " 'from sklearn.linear_model import ElasticNet',\n",
              " 'import fastai',\n",
              " 'import bokeh',\n",
              " 'import imutils',\n",
              " 'import nltk',\n",
              " 'import sklearn',\n",
              " 'import awswrangler as wr',\n",
              " 'import datetime as dt',\n",
              " 'from sklearn.linear_model import ElasticNetCV',\n",
              " 'import gensim',\n",
              " 'from sklearn.model_selection import GridSearchCV',\n",
              " 'from statsmodels.tsa.arima_model import ARIMA',\n",
              " 'from pyspark import SparkContext',\n",
              " 'import plotly.graph_objs as go',\n",
              " 'import sys',\n",
              " 'import pydot',\n",
              " 'import torch',\n",
              " 'from sklearn.feature_extraction.text import CountVectorizer',\n",
              " 'from sklearn.ensemble import GradientBoostingRegressor',\n",
              " 'import glob',\n",
              " 'import lightgbm as lgb',\n",
              " 'from scipy import signal as sg',\n",
              " 'from xlrd import open_workbook',\n",
              " 'import matplotlib.pyplot as plt',\n",
              " 'import keras',\n",
              " 'import statistics',\n",
              " 'import os',\n",
              " 'import textblob',\n",
              " 'import spacy',\n",
              " 'import tensorflow as tf',\n",
              " 'import pickle',\n",
              " 'import statsmodels.api as sm',\n",
              " 'import seaborn as sns',\n",
              " 'from sklearn import svm',\n",
              " 'from fbprophet import Prophet',\n",
              " 'import pandas as pd',\n",
              " 'from pathlib import Path',\n",
              " 'from sklearn.linear_model import LinearRegression',\n",
              " 'import xgboost as xgb']"
            ]
          },
          "metadata": {},
          "execution_count": 3
        }
      ]
    }
  ]
}